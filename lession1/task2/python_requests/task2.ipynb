{
 "cells": [
  {
   "cell_type": "markdown",
   "metadata": {},
   "source": [
    "### Задание:\n",
    "Изучить список открытых API. Найти среди них любое, которое требует авторизацию (любого типа). Выполнить запросы к нему, пройдя авторизацию с помощью cURL, Postman, requests. Результат ответа от сервера записать в файл."
   ]
  },
  {
   "cell_type": "markdown",
   "metadata": {},
   "source": [
    "Импортируем модуль"
   ]
  },
  {
   "cell_type": "code",
   "execution_count": 1,
   "metadata": {},
   "outputs": [],
   "source": [
    "import requests as req"
   ]
  },
  {
   "cell_type": "markdown",
   "metadata": {},
   "source": [
    "Компонуем адрес запроса на url, header-ы и params-ы"
   ]
  },
  {
   "cell_type": "code",
   "execution_count": 2,
   "metadata": {},
   "outputs": [],
   "source": [
    "url = \"https://www.amdoren.com/api/weather.php\"\n",
    "\n",
    "querystring = {\"api_key\":\"7DnFYJiKbMwnRDzyE9mhyAPKHUVwT7\",\"lat\":\"40.7127837\",\"lon\":\"-74.0059413\"}\n",
    "\n",
    "headers = {\n",
    "    'cache-control': \"no-cache\",\n",
    "    'Postman-Token': \"364e4ed8-4120-480b-b092-212a3fee3d3e\"\n",
    "    }"
   ]
  },
  {
   "cell_type": "markdown",
   "metadata": {},
   "source": [
    "Производим запрос и выведем, что у нас получилось:"
   ]
  },
  {
   "cell_type": "code",
   "execution_count": 3,
   "metadata": {},
   "outputs": [
    {
     "name": "stdout",
     "output_type": "stream",
     "text": [
      "{\r\n",
      "\"error\" : 0,\r\n",
      "\"error_message\" : \"-\",\r\n",
      "\"forecast\":[ \r\n",
      "{\"date\":\"2019-08-26\",\r\n",
      "\"avg_c\":20,\r\n",
      "\"min_c\":16,\r\n",
      "\"max_c\":24,\r\n",
      "\"avg_f\":68,\r\n",
      "\"min_f\":61,\r\n",
      "\"max_f\":75,\r\n",
      "\"summary\":\"Partly cloudy\",\r\n",
      "\"icon\":\"wi_color_partly_cloudy_night.png\"},\r\n",
      "{\"date\":\"2019-08-27\",\r\n",
      "\"avg_c\":22,\r\n",
      "\"min_c\":18,\r\n",
      "\"max_c\":26,\r\n",
      "\"avg_f\":72,\r\n",
      "\"min_f\":64,\r\n",
      "\"max_f\":79,\r\n",
      "\"summary\":\"Partly cloudy\",\r\n",
      "\"icon\":\"wi_color_partly_cloudy_day.png\"},\r\n",
      "{\"date\":\"2019-08-28\",\r\n",
      "\"avg_c\":25,\r\n",
      "\"min_c\":21,\r\n",
      "\"max_c\":29,\r\n",
      "\"avg_f\":77,\r\n",
      "\"min_f\":70,\r\n",
      "\"max_f\":84,\r\n",
      "\"summary\":\"Light rain\",\r\n",
      "\"icon\":\"wi_color_drizzle.png\"},\r\n",
      "{\"date\":\"2019-08-29\",\r\n",
      "\"avg_c\":25,\r\n",
      "\"min_c\":21,\r\n",
      "\"max_c\":30,\r\n",
      "\"avg_f\":77,\r\n",
      "\"min_f\":70,\r\n",
      "\"max_f\":86,\r\n",
      "\"summary\":\"Rain\",\r\n",
      "\"icon\":\"wi_color_drizzle.png\"},\r\n",
      "{\"date\":\"2019-08-30\",\r\n",
      "\"avg_c\":25,\r\n",
      "\"min_c\":19,\r\n",
      "\"max_c\":31,\r\n",
      "\"avg_f\":77,\r\n",
      "\"min_f\":66,\r\n",
      "\"max_f\":88,\r\n",
      "\"summary\":\"Clear\",\r\n",
      "\"icon\":\"wi_color_clear_day.png\"}\r\n",
      "]}\r\n",
      "\n"
     ]
    }
   ],
   "source": [
    "res = req.request(\"GET\", url, headers=headers, params=querystring)\n",
    "print(res.text)"
   ]
  },
  {
   "cell_type": "markdown",
   "metadata": {},
   "source": [
    "Сохраним в файл"
   ]
  },
  {
   "cell_type": "code",
   "execution_count": 4,
   "metadata": {},
   "outputs": [],
   "source": [
    "file = open('output.json','w+')\n",
    "file.write(res.text)\n",
    "file.close()"
   ]
  }
 ],
 "metadata": {
  "kernelspec": {
   "display_name": "Python 3",
   "language": "python",
   "name": "python3"
  },
  "language_info": {
   "codemirror_mode": {
    "name": "ipython",
    "version": 3
   },
   "file_extension": ".py",
   "mimetype": "text/x-python",
   "name": "python",
   "nbconvert_exporter": "python",
   "pygments_lexer": "ipython3",
   "version": "3.7.4"
  }
 },
 "nbformat": 4,
 "nbformat_minor": 2
}
